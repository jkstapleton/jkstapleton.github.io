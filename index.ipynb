{
 "cells": [
  {
   "cell_type": "markdown",
   "id": "e9e54e0a",
   "metadata": {},
   "source": [
    "# About Me\n",
    "\n",
    "My name is **Jack Stapleton**, and I am a **Commercial Analyst** currently based in **Melbourne, Australia** with over **5 years of experience** in **strategy, sales, and operations**. I have a strong passion for **data analysis, problem-solving, and strategic development**.\n",
    "\n",
    "This repository contains a collection of **Python models, analyses, and projects** that I’ve developed to explore my interests in **commercial analytics**, with a focus on **data-driven decision-making, machine learning, and business analysis**.\n",
    "\n",
    "If you'd like to connect to discuss these topics further — or if you believe there’s a job opportunity that aligns with my skills — feel free to contact me at **jkstapo@gmail.com** or linkedin **https://www.linkedin.com/in/jack-stapleton1/**\n",
    "\n",
    "---\n",
    "\n",
    "## Projects\n",
    "\n",
    "### [Customer Churn and Revenue Prediction Model](https://jkstapleton.github.io/ltv_ml/)\n",
    "A machine learning model designed to **predict customer churn** and **forecast future revenue**.\n",
    "\n",
    "### [Pricing Optimisation](https://jkstapleton.github.io/price-optimisation/)\n",
    "A model built to **optimise pricing decisions** based on **elasticity and demand modeling**.\n",
    "\n",
    "### [Forecasting](https://jkstapleton.github.io/ML_Forecast/)\n",
    "A machine learning model designed to **predict electricity demand** based on **historical data**. \n"
   ]
  }
 ],
 "metadata": {
  "language_info": {
   "name": "python"
  }
 },
 "nbformat": 4,
 "nbformat_minor": 5
}
